{
 "metadata": {
  "name": "datafile"
 },
 "nbformat": 3,
 "nbformat_minor": 0,
 "worksheets": [
  {
   "cells": [
    {
     "cell_type": "markdown",
     "metadata": {},
     "source": [
      "Opening\n",
      "------"
     ]
    },
    {
     "cell_type": "markdown",
     "metadata": {},
     "source": [
      "First, import the pymworks module"
     ]
    },
    {
     "cell_type": "code",
     "collapsed": false,
     "input": [
      "import pymworks"
     ],
     "language": "python",
     "metadata": {},
     "outputs": []
    },
    {
     "cell_type": "markdown",
     "metadata": {},
     "source": [
      "Open the datafile using either pymworks.open or pymworks.open_file.\n",
      "This may take a few seconds if it is the first time a datafile is opened."
     ]
    },
    {
     "cell_type": "code",
     "collapsed": false,
     "input": [
      "df = pymworks.open('data/example_data.mwk')"
     ],
     "language": "python",
     "metadata": {},
     "outputs": []
    },
    {
     "cell_type": "markdown",
     "metadata": {},
     "source": [
      "Reading\n",
      "------"
     ]
    },
    {
     "cell_type": "markdown",
     "metadata": {},
     "source": [
      "Events can be read by code"
     ]
    },
    {
     "cell_type": "code",
     "collapsed": false,
     "input": [
      "len(df.get_events(7))"
     ],
     "language": "python",
     "metadata": {},
     "outputs": []
    },
    {
     "cell_type": "markdown",
     "metadata": {},
     "source": [
      "by name"
     ]
    },
    {
     "cell_type": "code",
     "collapsed": false,
     "input": [
      "stim_evs = df.get_events('#stimDisplayUpdate')  # get all #stimDisplayUpdate events\n",
      "len(stim_evs)"
     ],
     "language": "python",
     "metadata": {},
     "outputs": []
    },
    {
     "cell_type": "markdown",
     "metadata": {},
     "source": [
      "or by time"
     ]
    },
    {
     "cell_type": "code",
     "collapsed": false,
     "input": [
      "len(df.get_events(time_range=[stim_evs[0].time, stim_evs[0].time + 1E6]))  # all events 1 second after first #stimDisplayUpdate event"
     ],
     "language": "python",
     "metadata": {},
     "outputs": []
    },
    {
     "cell_type": "markdown",
     "metadata": {},
     "source": [
      "multiple codes or names are supported"
     ]
    },
    {
     "cell_type": "code",
     "collapsed": false,
     "input": [
      "len(df.get_events((7, 8, 9)))"
     ],
     "language": "python",
     "metadata": {},
     "outputs": []
    },
    {
     "cell_type": "code",
     "collapsed": false,
     "input": [
      "len(df.get_events(('#stimDisplayUpdate', '#announceStimulus')))"
     ],
     "language": "python",
     "metadata": {},
     "outputs": []
    },
    {
     "cell_type": "markdown",
     "metadata": {},
     "source": [
      "Events\n",
      "------"
     ]
    },
    {
     "cell_type": "markdown",
     "metadata": {},
     "source": [
      "Events contain: time, code, (sometimes) name, and value"
     ]
    },
    {
     "cell_type": "code",
     "collapsed": false,
     "input": [
      "stim_evs = df.get_events('#stimDisplayUpdate')\n",
      "ev = stim_evs[0]\n",
      "print 'Time: %i, Code: %i, Name: %s, Value: %s' % (ev.time, ev.code, ev.name, ev.value)"
     ],
     "language": "python",
     "metadata": {},
     "outputs": []
    },
    {
     "cell_type": "markdown",
     "metadata": {},
     "source": [
      "Time (int) is the system clock in microseconds\n",
      "\n",
      "Code (int) is the event code\n",
      "\n",
      "Name (string) is the event name (may be automatically looked up if the datafile is indexed and has a valid codec)\n",
      "\n",
      "Value (variable) is the event payload and can be just about any python type"
     ]
    },
    {
     "cell_type": "markdown",
     "metadata": {},
     "source": [
      "Utility functions\n",
      "------"
     ]
    },
    {
     "cell_type": "markdown",
     "metadata": {},
     "source": [
      "Some utility functions exist for performing common operations on events."
     ]
    },
    {
     "cell_type": "markdown",
     "metadata": {},
     "source": [
      "To parse #stimDisplayUpdate events into a more usable list of all stimuli displayed as a list of dictionaries:"
     ]
    },
    {
     "cell_type": "code",
     "collapsed": false,
     "input": [
      "stims = pymworks.events.display.to_stims(df.get_events('#stimDisplayUpdate'))\n",
      "stims[0]"
     ],
     "language": "python",
     "metadata": {},
     "outputs": []
    }
   ],
   "metadata": {}
  }
 ]
}